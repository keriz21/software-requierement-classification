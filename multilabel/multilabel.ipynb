{
 "cells": [
  {
   "cell_type": "markdown",
   "metadata": {},
   "source": [
    "PEMBERSIHAN KATA"
   ]
  },
  {
   "cell_type": "code",
   "execution_count": 5,
   "metadata": {},
   "outputs": [],
   "source": [
    "import pandas as pd\n",
    "import re\n",
    "\n",
    "\n"
   ]
  },
  {
   "cell_type": "code",
   "execution_count": 6,
   "metadata": {},
   "outputs": [],
   "source": [
    "def clean_text(text):\n",
    "    # Hapus karakter asing menggunakan ekspresi reguler\n",
    "    cleaned_text = re.sub(r'[^\\x00-\\x7F]+', '', text)\n",
    "    cleaned_text.lower()\n",
    "    return cleaned_text"
   ]
  },
  {
   "cell_type": "code",
   "execution_count": 7,
   "metadata": {},
   "outputs": [],
   "source": [
    "df = pd.read_csv(\"multiLabel.csv\")\n",
    "df.describe()\n",
    "\n",
    "requirement = df['Requirement']\n",
    "type = df['Type']\n"
   ]
  },
  {
   "cell_type": "code",
   "execution_count": 8,
   "metadata": {},
   "outputs": [],
   "source": [
    "requirement = requirement.apply(clean_text)\n",
    "requirement.to_csv(\"test13.csv\", index=True)\n",
    "    "
   ]
  },
  {
   "cell_type": "markdown",
   "metadata": {},
   "source": [
    "penghapusan stop word"
   ]
  },
  {
   "cell_type": "code",
   "execution_count": 9,
   "metadata": {},
   "outputs": [
    {
     "name": "stderr",
     "output_type": "stream",
     "text": [
      "[nltk_data] Downloading package stopwords to\n",
      "[nltk_data]     C:\\Users\\ASUS\\AppData\\Roaming\\nltk_data...\n",
      "[nltk_data]   Package stopwords is already up-to-date!\n",
      "[nltk_data] Downloading package punkt to\n",
      "[nltk_data]     C:\\Users\\ASUS\\AppData\\Roaming\\nltk_data...\n",
      "[nltk_data]   Package punkt is already up-to-date!\n"
     ]
    },
    {
     "data": {
      "text/plain": [
       "True"
      ]
     },
     "execution_count": 9,
     "metadata": {},
     "output_type": "execute_result"
    }
   ],
   "source": [
    "import nltk\n",
    "from nltk.corpus import stopwords\n",
    "from nltk.tokenize import word_tokenize\n",
    "import string\n",
    "\n",
    "nltk.download('stopwords')\n",
    "nltk.download('punkt')"
   ]
  },
  {
   "cell_type": "code",
   "execution_count": 10,
   "metadata": {},
   "outputs": [],
   "source": [
    "def remove_stopwords(text):\n",
    "    # Tokenisasi teks\n",
    "    tokens = word_tokenize(text)\n",
    "\n",
    "    # Ambil stop words dari NLTK dan tambahkan tanda baca ke dalamnya\n",
    "    stop_words = set(stopwords.words(\"english\") + list(string.punctuation))\n",
    "\n",
    "    # Hapus stop words dari token\n",
    "    filtered_tokens = [word for word in tokens if word.lower() not in stop_words]\n",
    "\n",
    "    # Gabungkan kembali token menjadi teks\n",
    "    cleaned_text = ' '.join(filtered_tokens)\n",
    "\n",
    "    return cleaned_text"
   ]
  },
  {
   "cell_type": "code",
   "execution_count": 11,
   "metadata": {},
   "outputs": [
    {
     "name": "stdout",
     "output_type": "stream",
     "text": [
      "0          system shall refresh display every 60 seconds\n",
      "1      application shall match color schema set forth...\n",
      "2      projected data must readable 10x10 projection ...\n",
      "3      product shall available normal business hours ...\n",
      "4      projected data must understandable 10x10 proje...\n",
      "                             ...                        \n",
      "550    product interface fast response time product i...\n",
      "551    system use stored e-mail addresses primary mea...\n",
      "552    system notify affected parties routine communi...\n",
      "553    system notify affected parties changes occur a...\n",
      "554    system notify affected parties changes occur a...\n",
      "Name: Requirement, Length: 555, dtype: object\n"
     ]
    }
   ],
   "source": [
    "requirement = requirement.apply(remove_stopwords)\n",
    "print(requirement)\n",
    "\n",
    "requirement.to_csv(\"text_word123.csv\")"
   ]
  },
  {
   "cell_type": "code",
   "execution_count": 12,
   "metadata": {},
   "outputs": [
    {
     "name": "stdout",
     "output_type": "stream",
     "text": [
      "  (0, 3)\t1.0\n",
      "  (1, 1)\t1.0\n",
      "  (2, 7)\t1.0\n",
      "  (4, 7)\t1.0\n",
      "  (5, 6)\t1.0\n",
      "  (6, 7)\t1.0\n",
      "  (7, 3)\t1.0\n",
      "  (44, 1)\t1.0\n",
      "  (45, 1)\t1.0\n",
      "  (46, 1)\t1.0\n",
      "  (47, 4)\t1.0\n",
      "  (48, 7)\t1.0\n",
      "  (49, 7)\t1.0\n",
      "  (50, 7)\t1.0\n",
      "  (51, 7)\t1.0\n",
      "  (52, 7)\t1.0\n",
      "  (53, 3)\t1.0\n",
      "  (54, 3)\t1.0\n",
      "  (55, 3)\t1.0\n",
      "  (56, 3)\t1.0\n",
      "  (59, 5)\t1.0\n",
      "  (60, 5)\t1.0\n",
      "  (61, 5)\t1.0\n",
      "  (67, 6)\t1.0\n",
      "  (68, 6)\t1.0\n",
      "  :\t:\n",
      "  (500, 7)\t1.0\n",
      "  (501, 7)\t1.0\n",
      "  (502, 7)\t1.0\n",
      "  (503, 3)\t1.0\n",
      "  (504, 3)\t1.0\n",
      "  (511, 6)\t1.0\n",
      "  (512, 6)\t1.0\n",
      "  (513, 6)\t1.0\n",
      "  (514, 6)\t1.0\n",
      "  (515, 6)\t1.0\n",
      "  (516, 6)\t1.0\n",
      "  (517, 6)\t1.0\n",
      "  (518, 6)\t1.0\n",
      "  (519, 6)\t1.0\n",
      "  (520, 6)\t1.0\n",
      "  (528, 2)\t1.0\n",
      "  (529, 2)\t1.0\n",
      "  (543, 2)\t1.0\n",
      "  (544, 2)\t1.0\n",
      "  (545, 6)\t1.0\n",
      "  (546, 6)\t1.0\n",
      "  (547, 1)\t1.0\n",
      "  (548, 1)\t1.0\n",
      "  (549, 7)\t1.0\n",
      "  (550, 3)\t1.0\n"
     ]
    }
   ],
   "source": [
    "from sklearn.feature_extraction.text import TfidfVectorizer\n",
    "\n",
    "vectorizer = TfidfVectorizer()\n",
    "X = vectorizer.fit_transform(requirement)\n",
    "y = vectorizer.fit_transform(type)\n",
    "\n",
    "print(y)"
   ]
  },
  {
   "cell_type": "code",
   "execution_count": 13,
   "metadata": {},
   "outputs": [
    {
     "name": "stdout",
     "output_type": "stream",
     "text": [
      "              precision    recall  f1-score   support\n",
      "\n",
      "           A       1.00      0.17      0.29         6\n",
      "           F       0.42      0.98      0.58        41\n",
      "          FT       0.00      0.00      0.00         2\n",
      "           L       0.00      0.00      0.00         1\n",
      "          LF       0.00      0.00      0.00         8\n",
      "          MN       0.00      0.00      0.00         3\n",
      "           O       0.50      0.08      0.14        12\n",
      "          PE       1.00      0.57      0.73         7\n",
      "          SC       0.00      0.00      0.00         3\n",
      "          SE       0.75      0.25      0.38        12\n",
      "          US       1.00      0.25      0.40        16\n",
      "\n",
      "    accuracy                           0.48       111\n",
      "   macro avg       0.42      0.21      0.23       111\n",
      "weighted avg       0.55      0.48      0.39       111\n",
      "\n"
     ]
    },
    {
     "name": "stderr",
     "output_type": "stream",
     "text": [
      "c:\\Users\\ASUS\\AppData\\Local\\Programs\\Python\\Python311\\Lib\\site-packages\\sklearn\\metrics\\_classification.py:1471: UndefinedMetricWarning: Precision and F-score are ill-defined and being set to 0.0 in labels with no predicted samples. Use `zero_division` parameter to control this behavior.\n",
      "  _warn_prf(average, modifier, msg_start, len(result))\n",
      "c:\\Users\\ASUS\\AppData\\Local\\Programs\\Python\\Python311\\Lib\\site-packages\\sklearn\\metrics\\_classification.py:1471: UndefinedMetricWarning: Precision and F-score are ill-defined and being set to 0.0 in labels with no predicted samples. Use `zero_division` parameter to control this behavior.\n",
      "  _warn_prf(average, modifier, msg_start, len(result))\n",
      "c:\\Users\\ASUS\\AppData\\Local\\Programs\\Python\\Python311\\Lib\\site-packages\\sklearn\\metrics\\_classification.py:1471: UndefinedMetricWarning: Precision and F-score are ill-defined and being set to 0.0 in labels with no predicted samples. Use `zero_division` parameter to control this behavior.\n",
      "  _warn_prf(average, modifier, msg_start, len(result))\n"
     ]
    }
   ],
   "source": [
    "from sklearn.svm import SVC\n",
    "from sklearn.model_selection import train_test_split\n",
    "from sklearn.metrics import classification_report\n",
    "# Pastikan variabel X dan y sudah terdefinisi\n",
    "X_train, X_test, y_train, y_test = train_test_split(X, type, test_size=0.2)\n",
    "\n",
    "# Coba latih model kembali setelah memastikan semua hal di atas\n",
    "# model_SVC.fit(X_train, y_train)\n",
    "\n",
    "model_SVC = SVC()\n",
    "model_SVC.fit(X_train, y_train)\n",
    "\n",
    "\n",
    "predictions = model_SVC.predict(X_test)\n",
    "print(classification_report(y_test, predictions))\n"
   ]
  },
  {
   "cell_type": "code",
   "execution_count": 14,
   "metadata": {},
   "outputs": [
    {
     "name": "stdout",
     "output_type": "stream",
     "text": [
      "              precision    recall  f1-score   support\n",
      "\n",
      "           A       1.00      0.33      0.50         3\n",
      "           F       0.73      0.87      0.80        47\n",
      "          FT       0.00      0.00      0.00         1\n",
      "           L       0.00      0.00      0.00         1\n",
      "          LF       0.60      0.50      0.55         6\n",
      "          MN       0.00      0.00      0.00         3\n",
      "           O       0.44      0.40      0.42        10\n",
      "          PE       0.62      0.56      0.59         9\n",
      "          PO       0.00      0.00      0.00         1\n",
      "          SC       0.00      0.00      0.00         3\n",
      "          SE       0.59      0.71      0.65        14\n",
      "          US       0.86      0.46      0.60        13\n",
      "\n",
      "    accuracy                           0.63       111\n",
      "   macro avg       0.40      0.32      0.34       111\n",
      "weighted avg       0.63      0.63      0.62       111\n",
      "\n"
     ]
    },
    {
     "name": "stderr",
     "output_type": "stream",
     "text": [
      "c:\\Users\\ASUS\\AppData\\Local\\Programs\\Python\\Python311\\Lib\\site-packages\\sklearn\\metrics\\_classification.py:1471: UndefinedMetricWarning: Precision and F-score are ill-defined and being set to 0.0 in labels with no predicted samples. Use `zero_division` parameter to control this behavior.\n",
      "  _warn_prf(average, modifier, msg_start, len(result))\n",
      "c:\\Users\\ASUS\\AppData\\Local\\Programs\\Python\\Python311\\Lib\\site-packages\\sklearn\\metrics\\_classification.py:1471: UndefinedMetricWarning: Precision and F-score are ill-defined and being set to 0.0 in labels with no predicted samples. Use `zero_division` parameter to control this behavior.\n",
      "  _warn_prf(average, modifier, msg_start, len(result))\n",
      "c:\\Users\\ASUS\\AppData\\Local\\Programs\\Python\\Python311\\Lib\\site-packages\\sklearn\\metrics\\_classification.py:1471: UndefinedMetricWarning: Precision and F-score are ill-defined and being set to 0.0 in labels with no predicted samples. Use `zero_division` parameter to control this behavior.\n",
      "  _warn_prf(average, modifier, msg_start, len(result))\n"
     ]
    }
   ],
   "source": [
    "from sklearn.tree import DecisionTreeClassifier\n",
    "\n",
    "X_train, X_test, y_train, y_test = train_test_split(X,type,test_size= 0.2)\n",
    "\n",
    "model_DT = DecisionTreeClassifier()\n",
    "model_DT.fit(X_train, y_train)\n",
    "\n",
    "predictions = model_DT.predict(X_test)\n",
    "print(classification_report(y_test, predictions))"
   ]
  },
  {
   "cell_type": "code",
   "execution_count": 15,
   "metadata": {},
   "outputs": [
    {
     "name": "stdout",
     "output_type": "stream",
     "text": [
      "              precision    recall  f1-score   support\n",
      "\n",
      "           A       0.00      0.00      0.00         3\n",
      "           F       0.33      1.00      0.50        35\n",
      "          FT       0.00      0.00      0.00         3\n",
      "           L       0.00      0.00      0.00         2\n",
      "          LF       0.00      0.00      0.00         7\n",
      "          MN       0.00      0.00      0.00         6\n",
      "           O       0.00      0.00      0.00        11\n",
      "          PE       1.00      0.27      0.43        11\n",
      "          PO       0.00      0.00      0.00         1\n",
      "          SC       0.00      0.00      0.00         6\n",
      "          SE       1.00      0.25      0.40         8\n",
      "          US       0.00      0.00      0.00        18\n",
      "\n",
      "    accuracy                           0.36       111\n",
      "   macro avg       0.19      0.13      0.11       111\n",
      "weighted avg       0.28      0.36      0.23       111\n",
      "\n"
     ]
    },
    {
     "name": "stderr",
     "output_type": "stream",
     "text": [
      "c:\\Users\\ASUS\\AppData\\Local\\Programs\\Python\\Python311\\Lib\\site-packages\\sklearn\\metrics\\_classification.py:1471: UndefinedMetricWarning: Precision and F-score are ill-defined and being set to 0.0 in labels with no predicted samples. Use `zero_division` parameter to control this behavior.\n",
      "  _warn_prf(average, modifier, msg_start, len(result))\n",
      "c:\\Users\\ASUS\\AppData\\Local\\Programs\\Python\\Python311\\Lib\\site-packages\\sklearn\\metrics\\_classification.py:1471: UndefinedMetricWarning: Precision and F-score are ill-defined and being set to 0.0 in labels with no predicted samples. Use `zero_division` parameter to control this behavior.\n",
      "  _warn_prf(average, modifier, msg_start, len(result))\n",
      "c:\\Users\\ASUS\\AppData\\Local\\Programs\\Python\\Python311\\Lib\\site-packages\\sklearn\\metrics\\_classification.py:1471: UndefinedMetricWarning: Precision and F-score are ill-defined and being set to 0.0 in labels with no predicted samples. Use `zero_division` parameter to control this behavior.\n",
      "  _warn_prf(average, modifier, msg_start, len(result))\n"
     ]
    }
   ],
   "source": [
    "from sklearn.naive_bayes import MultinomialNB\n",
    "\n",
    "X_train, X_test, y_train, y_test = train_test_split(X,type,test_size= 0.2)\n",
    "\n",
    "model_NB = MultinomialNB()\n",
    "model_NB.fit(X_train, y_train)\n",
    "\n",
    "predictions = model_NB.predict(X_test)\n",
    "print(classification_report(y_test, predictions))"
   ]
  },
  {
   "cell_type": "code",
   "execution_count": 16,
   "metadata": {},
   "outputs": [
    {
     "name": "stdout",
     "output_type": "stream",
     "text": [
      "              precision    recall  f1-score   support\n",
      "\n",
      "           A       0.43      0.75      0.55         4\n",
      "           F       0.60      0.97      0.74        40\n",
      "          FT       0.00      0.00      0.00         3\n",
      "           L       1.00      0.25      0.40         4\n",
      "          LF       0.80      0.36      0.50        11\n",
      "          MN       0.33      0.25      0.29         4\n",
      "           O       0.50      0.14      0.22        14\n",
      "          PE       0.80      0.67      0.73         6\n",
      "          SC       0.40      0.67      0.50         3\n",
      "          SE       0.67      0.46      0.55        13\n",
      "          US       0.71      0.56      0.63         9\n",
      "\n",
      "    accuracy                           0.60       111\n",
      "   macro avg       0.57      0.46      0.46       111\n",
      "weighted avg       0.61      0.60      0.56       111\n",
      "\n"
     ]
    },
    {
     "name": "stderr",
     "output_type": "stream",
     "text": [
      "c:\\Users\\ASUS\\AppData\\Local\\Programs\\Python\\Python311\\Lib\\site-packages\\sklearn\\neural_network\\_multilayer_perceptron.py:691: ConvergenceWarning: Stochastic Optimizer: Maximum iterations (1000) reached and the optimization hasn't converged yet.\n",
      "  warnings.warn(\n",
      "c:\\Users\\ASUS\\AppData\\Local\\Programs\\Python\\Python311\\Lib\\site-packages\\sklearn\\metrics\\_classification.py:1471: UndefinedMetricWarning: Precision and F-score are ill-defined and being set to 0.0 in labels with no predicted samples. Use `zero_division` parameter to control this behavior.\n",
      "  _warn_prf(average, modifier, msg_start, len(result))\n",
      "c:\\Users\\ASUS\\AppData\\Local\\Programs\\Python\\Python311\\Lib\\site-packages\\sklearn\\metrics\\_classification.py:1471: UndefinedMetricWarning: Precision and F-score are ill-defined and being set to 0.0 in labels with no predicted samples. Use `zero_division` parameter to control this behavior.\n",
      "  _warn_prf(average, modifier, msg_start, len(result))\n",
      "c:\\Users\\ASUS\\AppData\\Local\\Programs\\Python\\Python311\\Lib\\site-packages\\sklearn\\metrics\\_classification.py:1471: UndefinedMetricWarning: Precision and F-score are ill-defined and being set to 0.0 in labels with no predicted samples. Use `zero_division` parameter to control this behavior.\n",
      "  _warn_prf(average, modifier, msg_start, len(result))\n"
     ]
    }
   ],
   "source": [
    "from sklearn.neural_network import MLPClassifier\n",
    "\n",
    "X_train, X_test, y_train, y_test = train_test_split(X,type,test_size= 0.2)\n",
    "\n",
    "model_MLP = MLPClassifier(hidden_layer_sizes=(4,), max_iter=1000, random_state=42)\n",
    "model_MLP.fit(X_train, y_train)\n",
    "\n",
    "predictions = model_MLP.predict(X_test)\n",
    "print(classification_report(y_test, predictions))"
   ]
  },
  {
   "cell_type": "code",
   "execution_count": 17,
   "metadata": {},
   "outputs": [
    {
     "name": "stdout",
     "output_type": "stream",
     "text": [
      "              precision    recall  f1-score   support\n",
      "\n",
      "           A       1.00      0.17      0.29         6\n",
      "           F       0.54      0.96      0.69        45\n",
      "          FT       0.00      0.00      0.00         1\n",
      "           L       0.00      0.00      0.00         2\n",
      "          LF       1.00      0.25      0.40         8\n",
      "          MN       0.00      0.00      0.00         4\n",
      "           O       0.50      0.29      0.36        14\n",
      "          PE       0.50      0.57      0.53         7\n",
      "          SC       0.00      0.00      0.00         1\n",
      "          SE       0.43      0.43      0.43         7\n",
      "          US       0.83      0.31      0.45        16\n",
      "\n",
      "    accuracy                           0.56       111\n",
      "   macro avg       0.44      0.27      0.29       111\n",
      "weighted avg       0.59      0.56      0.50       111\n",
      "\n"
     ]
    },
    {
     "name": "stderr",
     "output_type": "stream",
     "text": [
      "c:\\Users\\ASUS\\AppData\\Local\\Programs\\Python\\Python311\\Lib\\site-packages\\sklearn\\metrics\\_classification.py:1471: UndefinedMetricWarning: Precision and F-score are ill-defined and being set to 0.0 in labels with no predicted samples. Use `zero_division` parameter to control this behavior.\n",
      "  _warn_prf(average, modifier, msg_start, len(result))\n",
      "c:\\Users\\ASUS\\AppData\\Local\\Programs\\Python\\Python311\\Lib\\site-packages\\sklearn\\metrics\\_classification.py:1471: UndefinedMetricWarning: Precision and F-score are ill-defined and being set to 0.0 in labels with no predicted samples. Use `zero_division` parameter to control this behavior.\n",
      "  _warn_prf(average, modifier, msg_start, len(result))\n",
      "c:\\Users\\ASUS\\AppData\\Local\\Programs\\Python\\Python311\\Lib\\site-packages\\sklearn\\metrics\\_classification.py:1471: UndefinedMetricWarning: Precision and F-score are ill-defined and being set to 0.0 in labels with no predicted samples. Use `zero_division` parameter to control this behavior.\n",
      "  _warn_prf(average, modifier, msg_start, len(result))\n"
     ]
    }
   ],
   "source": [
    "from sklearn.ensemble import RandomForestClassifier\n",
    "\n",
    "X_train, X_test, y_train, y_test = train_test_split(X,type,test_size= 0.2)\n",
    "\n",
    "model_RF = RandomForestClassifier(n_estimators=100, random_state=42)\n",
    "model_RF.fit(X_train, y_train)\n",
    "\n",
    "predictions = model_RF.predict(X_test)\n",
    "print(classification_report(y_test, predictions))\n"
   ]
  },
  {
   "cell_type": "code",
   "execution_count": 18,
   "metadata": {},
   "outputs": [
    {
     "name": "stderr",
     "output_type": "stream",
     "text": [
      "c:\\Users\\ASUS\\AppData\\Local\\Programs\\Python\\Python311\\Lib\\site-packages\\sklearn\\metrics\\_classification.py:1471: UndefinedMetricWarning: Precision and F-score are ill-defined and being set to 0.0 in labels with no predicted samples. Use `zero_division` parameter to control this behavior.\n",
      "  _warn_prf(average, modifier, msg_start, len(result))\n"
     ]
    },
    {
     "name": "stdout",
     "output_type": "stream",
     "text": [
      "              precision    recall  f1-score   support\n",
      "\n",
      "           A       0.00      0.00      0.00         3\n",
      "           F       0.53      0.96      0.68        50\n",
      "          FT       0.00      0.00      0.00         2\n",
      "          LF       0.00      0.00      0.00         1\n",
      "          MN       0.00      0.00      0.00         5\n",
      "           O       1.00      0.25      0.40        12\n",
      "          PE       1.00      0.46      0.63        13\n",
      "          PO       0.00      0.00      0.00         1\n",
      "          SC       1.00      0.20      0.33         5\n",
      "          SE       0.50      0.25      0.33         8\n",
      "          US       1.00      0.55      0.71        11\n",
      "\n",
      "    accuracy                           0.59       111\n",
      "   macro avg       0.46      0.24      0.28       111\n",
      "weighted avg       0.64      0.59      0.53       111\n",
      "\n"
     ]
    },
    {
     "name": "stderr",
     "output_type": "stream",
     "text": [
      "c:\\Users\\ASUS\\AppData\\Local\\Programs\\Python\\Python311\\Lib\\site-packages\\sklearn\\metrics\\_classification.py:1471: UndefinedMetricWarning: Precision and F-score are ill-defined and being set to 0.0 in labels with no predicted samples. Use `zero_division` parameter to control this behavior.\n",
      "  _warn_prf(average, modifier, msg_start, len(result))\n",
      "c:\\Users\\ASUS\\AppData\\Local\\Programs\\Python\\Python311\\Lib\\site-packages\\sklearn\\metrics\\_classification.py:1471: UndefinedMetricWarning: Precision and F-score are ill-defined and being set to 0.0 in labels with no predicted samples. Use `zero_division` parameter to control this behavior.\n",
      "  _warn_prf(average, modifier, msg_start, len(result))\n"
     ]
    }
   ],
   "source": [
    "from sklearn.linear_model import LogisticRegression\n",
    "\n",
    "X_train, X_test, y_train, y_test = train_test_split(X,type,test_size= 0.2)\n",
    "\n",
    "model_LR = LogisticRegression(random_state=42)\n",
    "\n",
    "model_LR.fit(X_train,y_train)\n",
    "\n",
    "predictions = model_LR.predict(X_test)\n",
    "print(classification_report(y_test, predictions))"
   ]
  }
 ],
 "metadata": {
  "kernelspec": {
   "display_name": "Python 3",
   "language": "python",
   "name": "python3"
  },
  "language_info": {
   "codemirror_mode": {
    "name": "ipython",
    "version": 3
   },
   "file_extension": ".py",
   "mimetype": "text/x-python",
   "name": "python",
   "nbconvert_exporter": "python",
   "pygments_lexer": "ipython3",
   "version": "3.11.5"
  }
 },
 "nbformat": 4,
 "nbformat_minor": 2
}
